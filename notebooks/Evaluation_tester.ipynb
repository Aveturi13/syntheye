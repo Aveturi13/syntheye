{
 "cells": [
  {
   "cell_type": "code",
   "execution_count": null,
   "id": "466c6e3e",
   "metadata": {},
   "outputs": [],
   "source": [
    "import os\n",
    "os.chdir(\"..\")"
   ]
  },
  {
   "cell_type": "code",
   "execution_count": null,
   "id": "ff0542d2",
   "metadata": {},
   "outputs": [],
   "source": [
    "from utils.data_utils import ImageDataset\n",
    "from torchvision import transforms\n",
    "from matplotlib import pyplot as plt\n",
    "import numpy as np\n",
    "import pandas as pd\n",
    "import seaborn as sns\n",
    "from PIL import Image\n",
    "import cv2\n",
    "import torch"
   ]
  },
  {
   "cell_type": "markdown",
   "id": "2d74ed62",
   "metadata": {},
   "source": [
    "## Load Dataset"
   ]
  },
  {
   "cell_type": "code",
   "execution_count": null,
   "id": "17142618",
   "metadata": {},
   "outputs": [],
   "source": [
    "# load data file\n",
    "data_file= \"datasets/faf_dataset_cleaned.csv\"\n",
    "filenames_col= \"file.path\"\n",
    "labels_col= \"gene\"\n",
    "train_classes= \"classes.txt\"\n",
    "\n",
    "# create transformations\n",
    "image_transforms = []\n",
    "resize_dim = 512\n",
    "image_transforms.append(transforms.Resize((resize_dim, resize_dim)))\n",
    "image_transforms.append(transforms.Grayscale())\n",
    "image_transforms.append(transforms.ToTensor())\n",
    "# image_transforms.append(transforms.Normalize((0.5,), (0.5,)))\n",
    "image_transforms = transforms.Compose(image_transforms)\n",
    "\n",
    "# load dataset\n",
    "dataset = ImageDataset(data_file, filenames_col, labels_col, [\"ABCA4\"], image_transforms)"
   ]
  },
  {
   "cell_type": "code",
   "execution_count": null,
   "id": "babf2c4a",
   "metadata": {},
   "outputs": [],
   "source": [
    "img = np.array([dataset[i][2].numpy().squeeze() for i in range(10)])\n",
    "\n",
    "from utils.vesselsegmentor.blood_segmentation.generator import RetinalBloodVesselGenerator as segmentor\n",
    "seg = segmentor(net_type=\"unet\", pretrained_model=\"utils/vesselsegmentor/models/unet.pth\", using_gpu=False)\n",
    "im_filtered = Image.fromarray(img)\n",
    "# thresholding_map = seg.generate(im_filtered.convert(mode=\"RGB\"))"
   ]
  },
  {
   "cell_type": "code",
   "execution_count": null,
   "id": "7bacba06",
   "metadata": {
    "scrolled": false
   },
   "outputs": [],
   "source": [
    "alpha = 3.0\n",
    "beta = 0.0\n",
    "filter_type = \"median\"\n",
    "thresholding = \"segment\"\n",
    "\n",
    "img = [dataset[i][2].numpy().squeeze() for i in range(10)]\n",
    " \n",
    "for im in img:    \n",
    "    # process image\n",
    "    im = np.uint8(im * 255)\n",
    "    im = np.clip(alpha*im + beta, 0, 255)\n",
    "    \n",
    "    # apply filter\n",
    "    if filter_type == \"averaging\":\n",
    "        im_filtered = cv2.blur(im, (7, 7))\n",
    "    elif filter_type == \"gaussian\":\n",
    "        im_filtered = cv2.GaussianBlur(im, (7,7), 0)\n",
    "    elif filter_type == \"median\":\n",
    "        im_filtered = cv2.medianBlur(np.float32(im), 5, (5, 5))\n",
    "    else:\n",
    "        im_filtered = im\n",
    "    \n",
    "    # apply thresholding\n",
    "    if thresholding == \"global\":\n",
    "        ret, thresholding_map = cv2.threshold(im_filtered, 50, 1, cv2.THRESH_BINARY_INV)\n",
    "    elif thresholding == \"segment\":\n",
    "        from utils.vesselsegmentor.blood_segmentation.generator import RetinalBloodVesselGenerator as segmentor\n",
    "        seg = segmentor(net_type=\"unet\", pretrained_model=\"utils/vesselsegmentor/models/unet.pth\", using_gpu=False)\n",
    "        im_filtered = Image.fromarray(im_filtered)\n",
    "        thresholding_map = seg.generate(im_filtered.convert(mode=\"RGB\"))\n",
    "    else:\n",
    "        thresholding_map = cv2.adaptiveThreshold(im_filtered, 255, cv2.ADAPTIVE_THRESH_GAUSSIAN_C, cv2.THRESH_BINARY_INV, 11, 2)\n",
    "    \n",
    "    plt.figure(figsize=(12, 6))\n",
    "    \n",
    "    plt.subplot(1, 4, 1)\n",
    "    plt.imshow(im, plt.cm.gray)\n",
    "    plt.axis(\"off\"), plt.title(\"Original\")\n",
    "    \n",
    "    plt.subplot(1, 4, 2)\n",
    "    plt.imshow(im_filtered, plt.cm.gray)\n",
    "    plt.axis(\"off\"), plt.title(\"Filtered\")\n",
    "    \n",
    "    plt.subplot(1, 4, 3)\n",
    "    plt.imshow(thresholding_map, plt.cm.gray)\n",
    "    plt.axis(\"off\"), plt.title(\"Threshold map\")\n",
    "    \n",
    "    plt.subplot(1, 4, 4)\n",
    "    plt.imshow(thresholding_map*im, plt.cm.gray)\n",
    "    plt.axis(\"off\"), plt.title(\"Original * Threshold\")\n",
    "    \n",
    "    plt.show()"
   ]
  },
  {
   "cell_type": "code",
   "execution_count": null,
   "id": "c1c25c9d",
   "metadata": {},
   "outputs": [],
   "source": []
  }
 ],
 "metadata": {
  "kernelspec": {
   "display_name": "Python 3",
   "language": "python",
   "name": "python3"
  },
  "language_info": {
   "codemirror_mode": {
    "name": "ipython",
    "version": 3
   },
   "file_extension": ".py",
   "mimetype": "text/x-python",
   "name": "python",
   "nbconvert_exporter": "python",
   "pygments_lexer": "ipython3",
   "version": "3.8.8"
  }
 },
 "nbformat": 4,
 "nbformat_minor": 5
}
