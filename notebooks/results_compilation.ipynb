{
 "cells": [
  {
   "cell_type": "code",
   "execution_count": null,
   "metadata": {},
   "outputs": [],
   "source": [
    "import os\n",
    "import torch\n",
    "import numpy as np\n",
    "import seaborn as sns\n",
    "import pandas as pd\n",
    "import matplotlib.pyplot as plt\n",
    "from torchvision.utils import make_grid\n",
    "from concurrent.futures import ProcessPoolExecutor\n",
    "import cv2\n",
    "from PIL import Image"
   ]
  },
  {
   "cell_type": "code",
   "execution_count": null,
   "metadata": {},
   "outputs": [],
   "source": [
    "results_path = \"../results/512_D_CMSGGAN/MSE_with_image_standardized/\"\n",
    "distance_matrix_files = [path for path in os.listdir(results_path) if path.endswith(\"distance_matrix.csv\")]"
   ]
  },
  {
   "cell_type": "markdown",
   "metadata": {},
   "source": [
    "## Similarity Scores"
   ]
  },
  {
   "cell_type": "code",
   "execution_count": null,
   "metadata": {},
   "outputs": [],
   "source": [
    "metrics = pd.DataFrame(columns=[\"gene\", \"gen_image_path\", \"real_image_path\", \"MSE\"])\n",
    "for path in distance_matrix_files:\n",
    "    print(path)\n",
    "    df = pd.read_csv(os.path.join(results_path, path), index_col=\"Unnamed: 0\")\n",
    "    df = df[[\"gen_image_path\", \"real_image_path\", \"MSE\"]]\n",
    "    df[\"gene\"] = [path.split(\"_\")[0]]*len(df)\n",
    "    metrics = metrics.append(df)"
   ]
  },
  {
   "cell_type": "code",
   "execution_count": null,
   "metadata": {},
   "outputs": [],
   "source": [
    "plt.figure(figsize=(12, 6))\n",
    "sns.violinplot(data=metrics, x=\"gene\", y=\"MSE\")\n",
    "plt.show()"
   ]
  },
  {
   "cell_type": "markdown",
   "metadata": {},
   "source": [
    "## Quality Evaluation"
   ]
  },
  {
   "cell_type": "code",
   "execution_count": null,
   "metadata": {},
   "outputs": [],
   "source": [
    "results_path = \"../results/512_D_CMSGGAN/BRISQUE/\"\n",
    "brisque_scores_path = os.listdir(results_path)\n",
    "\n",
    "brisque_scores_synthetic = pd.DataFrame(columns=[\"gene\", \"Synthetic image path\", \"Quality Score\"])\n",
    "for path in brisque_scores_path:\n",
    "    print(path)\n",
    "    df = pd.read_csv(os.path.join(results_path, path), index_col=\"Unnamed: 0\")\n",
    "    df[\"gene\"] = path.split(\"_\")[0]\n",
    "    brisque_scores_synthetic = brisque_scores_synthetic.append(df)\n",
    "brisque_scores_synthetic[\"image_type\"] = [\"synthetic\"]*len(brisque_scores_synthetic)\n",
    "brisque_scores_synthetic.rename(columns={\"gene\":\"gene\", \"Synthetic image path\": \"file.path\", \"Quality Score\": \"brisq.score\"}, inplace=True)\n",
    "brisque_scores_synthetic.reset_index(inplace=True, drop=True)"
   ]
  },
  {
   "cell_type": "code",
   "execution_count": null,
   "metadata": {},
   "outputs": [],
   "source": [
    "brisque_scores_synthetic"
   ]
  },
  {
   "cell_type": "code",
   "execution_count": null,
   "metadata": {},
   "outputs": [],
   "source": [
    "real_results_path = \"../datasets/syntheye/faf_dataset_cleaned.csv\"\n",
    "real_df = pd.read_csv(real_results_path)\n",
    "real_df = real_df[real_df.fold != -1]\n",
    "real_df = real_df[[\"gene\", \"file.path\", \"brisq.score\"]]\n",
    "real_df[\"image_type\"] = [\"real\"]*len(real_df)\n",
    "real_df.reset_index(drop=True, inplace=True)"
   ]
  },
  {
   "cell_type": "code",
   "execution_count": null,
   "metadata": {},
   "outputs": [],
   "source": [
    "from brisque import BRISQUE\n",
    "from tqdm import tqdm\n",
    "brisq = BRISQUE()\n",
    "\n",
    "# modify brisq values\n",
    "new_brisq = np.zeros(len(real_df))\n",
    "for i, row in tqdm(real_df.iterrows()):\n",
    "    img = Image.open(row[\"file.path\"])\n",
    "    img = img.resize((512, 512))\n",
    "    new_brisq[i] = brisq.get_score(np.array(img))\n",
    "    \n",
    "real_df[\"brisq.score\"] = np.array(new_brisq)"
   ]
  },
  {
   "cell_type": "code",
   "execution_count": null,
   "metadata": {},
   "outputs": [],
   "source": [
    "real_df"
   ]
  },
  {
   "cell_type": "markdown",
   "metadata": {},
   "source": [
    "## Plot distribution of scores"
   ]
  },
  {
   "cell_type": "code",
   "execution_count": null,
   "metadata": {},
   "outputs": [],
   "source": [
    "combined_df = pd.concat([brisque_scores_synthetic, real_df], axis=0)\n",
    "combined_df"
   ]
  },
  {
   "cell_type": "code",
   "execution_count": null,
   "metadata": {},
   "outputs": [],
   "source": [
    "with open(\"../classes.txt\") as f:\n",
    "    classes = f.read().splitlines()\n",
    "\n",
    "plt.figure(figsize=(15, 6))\n",
    "sns.boxplot(data=combined_df, y=\"brisq.score\", x=\"gene\", hue=\"image_type\", order=classes)\n",
    "plt.xticks(rotation=45)\n",
    "plt.show()"
   ]
  },
  {
   "cell_type": "code",
   "execution_count": null,
   "metadata": {},
   "outputs": [],
   "source": []
  }
 ],
 "metadata": {
  "kernelspec": {
   "display_name": "Python 3",
   "language": "python",
   "name": "python3"
  },
  "language_info": {
   "codemirror_mode": {
    "name": "ipython",
    "version": 3
   },
   "file_extension": ".py",
   "mimetype": "text/x-python",
   "name": "python",
   "nbconvert_exporter": "python",
   "pygments_lexer": "ipython3",
   "version": "3.8.8"
  },
  "toc": {
   "base_numbering": 1,
   "nav_menu": {},
   "number_sections": true,
   "sideBar": true,
   "skip_h1_title": false,
   "title_cell": "Table of Contents",
   "title_sidebar": "Contents",
   "toc_cell": false,
   "toc_position": {},
   "toc_section_display": true,
   "toc_window_display": false
  }
 },
 "nbformat": 4,
 "nbformat_minor": 4
}
