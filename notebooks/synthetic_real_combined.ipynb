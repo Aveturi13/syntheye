{
 "cells": [
  {
   "cell_type": "code",
   "execution_count": 1,
   "id": "dc43c0fa",
   "metadata": {},
   "outputs": [],
   "source": [
    "# import libraries\n",
    "import numpy as np\n",
    "import pandas as pd\n",
    "import os\n",
    "os.chdir(\"..\")"
   ]
  },
  {
   "cell_type": "markdown",
   "id": "066f703c",
   "metadata": {},
   "source": [
    "## Load real dataset"
   ]
  },
  {
   "cell_type": "code",
   "execution_count": 8,
   "id": "073a3f4d",
   "metadata": {},
   "outputs": [],
   "source": [
    "real_data_path = \"dataset/all_baf_valid_50deg_filtered_train_0.csv\""
   ]
  },
  {
   "cell_type": "code",
   "execution_count": 65,
   "id": "8f8aca8f",
   "metadata": {},
   "outputs": [],
   "source": [
    "real_df = pd.read_csv(real_data_path)\n",
    "with open(\"classes.txt\") as f:\n",
    "    classes = f.read().splitlines()\n",
    "real_df = real_df[real_df.gene.isin(classes)]\n",
    "real_df = real_df[real_df.fold == 1]"
   ]
  },
  {
   "cell_type": "code",
   "execution_count": 66,
   "id": "2d2c1d63",
   "metadata": {},
   "outputs": [
    {
     "name": "stdout",
     "output_type": "stream",
     "text": [
      "Length of dataset = 2510\n",
      "Keys =  Index(['file.path', 'patient.number', 'laterality', 'date', 'file.name',\n",
      "       'scan.id', 'scan.number', 'gene', 'modality', 'file.size', 'corrupted',\n",
      "       'image.width', 'image.height', 'pixel.median.intensity',\n",
      "       'pixel.mean.intensity', 'pixel.max.intensity', 'pixel.min.intensity',\n",
      "       'pixel.std.intensity', 'pixel.black.count', 'brisq.score',\n",
      "       'pixel.noise.level', 'fold'],\n",
      "      dtype='object')\n"
     ]
    }
   ],
   "source": [
    "print(\"Length of dataset = \" + str(len(real_df)))\n",
    "print(\"Keys = \", real_df.keys())"
   ]
  },
  {
   "cell_type": "code",
   "execution_count": 67,
   "id": "57a421f7",
   "metadata": {},
   "outputs": [
    {
     "data": {
      "text/html": [
       "<div>\n",
       "<style scoped>\n",
       "    .dataframe tbody tr th:only-of-type {\n",
       "        vertical-align: middle;\n",
       "    }\n",
       "\n",
       "    .dataframe tbody tr th {\n",
       "        vertical-align: top;\n",
       "    }\n",
       "\n",
       "    .dataframe thead th {\n",
       "        text-align: right;\n",
       "    }\n",
       "</style>\n",
       "<table border=\"1\" class=\"dataframe\">\n",
       "  <thead>\n",
       "    <tr style=\"text-align: right;\">\n",
       "      <th></th>\n",
       "      <th>file.path</th>\n",
       "      <th>patient.number</th>\n",
       "      <th>laterality</th>\n",
       "      <th>date</th>\n",
       "      <th>file.name</th>\n",
       "      <th>scan.id</th>\n",
       "      <th>scan.number</th>\n",
       "      <th>gene</th>\n",
       "      <th>modality</th>\n",
       "      <th>file.size</th>\n",
       "      <th>...</th>\n",
       "      <th>image.height</th>\n",
       "      <th>pixel.median.intensity</th>\n",
       "      <th>pixel.mean.intensity</th>\n",
       "      <th>pixel.max.intensity</th>\n",
       "      <th>pixel.min.intensity</th>\n",
       "      <th>pixel.std.intensity</th>\n",
       "      <th>pixel.black.count</th>\n",
       "      <th>brisq.score</th>\n",
       "      <th>pixel.noise.level</th>\n",
       "      <th>fold</th>\n",
       "    </tr>\n",
       "  </thead>\n",
       "  <tbody>\n",
       "    <tr>\n",
       "      <th>27</th>\n",
       "      <td>/media/pontikos_nas2/NikolasPontikos/IRD/MEH/E...</td>\n",
       "      <td>EY00010</td>\n",
       "      <td>left</td>\n",
       "      <td>2014-07-22</td>\n",
       "      <td>00372075_fundus_0.png</td>\n",
       "      <td>372075</td>\n",
       "      <td>0</td>\n",
       "      <td>ABCA4</td>\n",
       "      <td>BAF</td>\n",
       "      <td>330808</td>\n",
       "      <td>...</td>\n",
       "      <td>768</td>\n",
       "      <td>0.160784</td>\n",
       "      <td>0.162086</td>\n",
       "      <td>0.984314</td>\n",
       "      <td>0.0</td>\n",
       "      <td>0.121664</td>\n",
       "      <td>107577.0</td>\n",
       "      <td>86.713359</td>\n",
       "      <td>1227.155663</td>\n",
       "      <td>1</td>\n",
       "    </tr>\n",
       "    <tr>\n",
       "      <th>28</th>\n",
       "      <td>/media/pontikos_nas2/NikolasPontikos/IRD/MEH/E...</td>\n",
       "      <td>EY00010</td>\n",
       "      <td>left</td>\n",
       "      <td>2014-07-22</td>\n",
       "      <td>00372075_fundus_1.png</td>\n",
       "      <td>372075</td>\n",
       "      <td>1</td>\n",
       "      <td>ABCA4</td>\n",
       "      <td>BAF</td>\n",
       "      <td>308394</td>\n",
       "      <td>...</td>\n",
       "      <td>768</td>\n",
       "      <td>0.172549</td>\n",
       "      <td>0.175132</td>\n",
       "      <td>0.984314</td>\n",
       "      <td>0.0</td>\n",
       "      <td>0.127474</td>\n",
       "      <td>107577.0</td>\n",
       "      <td>78.433650</td>\n",
       "      <td>960.416794</td>\n",
       "      <td>1</td>\n",
       "    </tr>\n",
       "    <tr>\n",
       "      <th>29</th>\n",
       "      <td>/media/pontikos_nas2/NikolasPontikos/IRD/MEH/E...</td>\n",
       "      <td>EY00010</td>\n",
       "      <td>left</td>\n",
       "      <td>2015-07-21</td>\n",
       "      <td>00500551_fundus_0.png</td>\n",
       "      <td>500551</td>\n",
       "      <td>0</td>\n",
       "      <td>ABCA4</td>\n",
       "      <td>BAF</td>\n",
       "      <td>400177</td>\n",
       "      <td>...</td>\n",
       "      <td>768</td>\n",
       "      <td>0.337255</td>\n",
       "      <td>0.324154</td>\n",
       "      <td>0.984314</td>\n",
       "      <td>0.0</td>\n",
       "      <td>0.224778</td>\n",
       "      <td>107577.0</td>\n",
       "      <td>100.509230</td>\n",
       "      <td>1887.814948</td>\n",
       "      <td>1</td>\n",
       "    </tr>\n",
       "    <tr>\n",
       "      <th>30</th>\n",
       "      <td>/media/pontikos_nas2/NikolasPontikos/IRD/MEH/E...</td>\n",
       "      <td>EY00010</td>\n",
       "      <td>right</td>\n",
       "      <td>2014-07-22</td>\n",
       "      <td>00372074_fundus_0.png</td>\n",
       "      <td>372074</td>\n",
       "      <td>0</td>\n",
       "      <td>ABCA4</td>\n",
       "      <td>BAF</td>\n",
       "      <td>327884</td>\n",
       "      <td>...</td>\n",
       "      <td>768</td>\n",
       "      <td>0.156863</td>\n",
       "      <td>0.156701</td>\n",
       "      <td>0.984314</td>\n",
       "      <td>0.0</td>\n",
       "      <td>0.117325</td>\n",
       "      <td>107577.0</td>\n",
       "      <td>84.681486</td>\n",
       "      <td>1076.269435</td>\n",
       "      <td>1</td>\n",
       "    </tr>\n",
       "    <tr>\n",
       "      <th>31</th>\n",
       "      <td>/media/pontikos_nas2/NikolasPontikos/IRD/MEH/E...</td>\n",
       "      <td>EY00010</td>\n",
       "      <td>right</td>\n",
       "      <td>2014-07-22</td>\n",
       "      <td>00372074_fundus_1.png</td>\n",
       "      <td>372074</td>\n",
       "      <td>1</td>\n",
       "      <td>ABCA4</td>\n",
       "      <td>BAF</td>\n",
       "      <td>325394</td>\n",
       "      <td>...</td>\n",
       "      <td>768</td>\n",
       "      <td>0.164706</td>\n",
       "      <td>0.162020</td>\n",
       "      <td>0.984314</td>\n",
       "      <td>0.0</td>\n",
       "      <td>0.120588</td>\n",
       "      <td>107577.0</td>\n",
       "      <td>81.952300</td>\n",
       "      <td>1044.006736</td>\n",
       "      <td>1</td>\n",
       "    </tr>\n",
       "  </tbody>\n",
       "</table>\n",
       "<p>5 rows × 22 columns</p>\n",
       "</div>"
      ],
      "text/plain": [
       "                                            file.path patient.number  \\\n",
       "27  /media/pontikos_nas2/NikolasPontikos/IRD/MEH/E...        EY00010   \n",
       "28  /media/pontikos_nas2/NikolasPontikos/IRD/MEH/E...        EY00010   \n",
       "29  /media/pontikos_nas2/NikolasPontikos/IRD/MEH/E...        EY00010   \n",
       "30  /media/pontikos_nas2/NikolasPontikos/IRD/MEH/E...        EY00010   \n",
       "31  /media/pontikos_nas2/NikolasPontikos/IRD/MEH/E...        EY00010   \n",
       "\n",
       "   laterality        date              file.name  scan.id  scan.number   gene  \\\n",
       "27       left  2014-07-22  00372075_fundus_0.png   372075            0  ABCA4   \n",
       "28       left  2014-07-22  00372075_fundus_1.png   372075            1  ABCA4   \n",
       "29       left  2015-07-21  00500551_fundus_0.png   500551            0  ABCA4   \n",
       "30      right  2014-07-22  00372074_fundus_0.png   372074            0  ABCA4   \n",
       "31      right  2014-07-22  00372074_fundus_1.png   372074            1  ABCA4   \n",
       "\n",
       "   modality  file.size  ...  image.height  pixel.median.intensity  \\\n",
       "27      BAF     330808  ...           768                0.160784   \n",
       "28      BAF     308394  ...           768                0.172549   \n",
       "29      BAF     400177  ...           768                0.337255   \n",
       "30      BAF     327884  ...           768                0.156863   \n",
       "31      BAF     325394  ...           768                0.164706   \n",
       "\n",
       "    pixel.mean.intensity  pixel.max.intensity  pixel.min.intensity  \\\n",
       "27              0.162086             0.984314                  0.0   \n",
       "28              0.175132             0.984314                  0.0   \n",
       "29              0.324154             0.984314                  0.0   \n",
       "30              0.156701             0.984314                  0.0   \n",
       "31              0.162020             0.984314                  0.0   \n",
       "\n",
       "    pixel.std.intensity  pixel.black.count  brisq.score  pixel.noise.level  \\\n",
       "27             0.121664           107577.0    86.713359        1227.155663   \n",
       "28             0.127474           107577.0    78.433650         960.416794   \n",
       "29             0.224778           107577.0   100.509230        1887.814948   \n",
       "30             0.117325           107577.0    84.681486        1076.269435   \n",
       "31             0.120588           107577.0    81.952300        1044.006736   \n",
       "\n",
       "    fold  \n",
       "27     1  \n",
       "28     1  \n",
       "29     1  \n",
       "30     1  \n",
       "31     1  \n",
       "\n",
       "[5 rows x 22 columns]"
      ]
     },
     "execution_count": 67,
     "metadata": {},
     "output_type": "execute_result"
    }
   ],
   "source": [
    "real_df.head()"
   ]
  },
  {
   "cell_type": "code",
   "execution_count": 68,
   "id": "eb248bfc-6258-402c-b764-43999d68464a",
   "metadata": {},
   "outputs": [],
   "source": [
    "real_df.to_csv('classifier_training/datasets/R_r2.csv')"
   ]
  },
  {
   "cell_type": "markdown",
   "id": "8eff8f90",
   "metadata": {
    "tags": []
   },
   "source": [
    "## Load Synthetic Dataset"
   ]
  },
  {
   "cell_type": "code",
   "execution_count": 99,
   "id": "cae75af2",
   "metadata": {},
   "outputs": [
    {
     "data": {
      "text/html": [
       "<div>\n",
       "<style scoped>\n",
       "    .dataframe tbody tr th:only-of-type {\n",
       "        vertical-align: middle;\n",
       "    }\n",
       "\n",
       "    .dataframe tbody tr th {\n",
       "        vertical-align: top;\n",
       "    }\n",
       "\n",
       "    .dataframe thead th {\n",
       "        text-align: right;\n",
       "    }\n",
       "</style>\n",
       "<table border=\"1\" class=\"dataframe\">\n",
       "  <thead>\n",
       "    <tr style=\"text-align: right;\">\n",
       "      <th></th>\n",
       "      <th>file.path</th>\n",
       "      <th>gene</th>\n",
       "    </tr>\n",
       "  </thead>\n",
       "  <tbody>\n",
       "    <tr>\n",
       "      <th>0</th>\n",
       "      <td>/home/zchayav/projects/stylegan2-ada-pytorch/s...</td>\n",
       "      <td>ABCA4</td>\n",
       "    </tr>\n",
       "    <tr>\n",
       "      <th>1</th>\n",
       "      <td>/home/zchayav/projects/stylegan2-ada-pytorch/s...</td>\n",
       "      <td>ABCA4</td>\n",
       "    </tr>\n",
       "    <tr>\n",
       "      <th>2</th>\n",
       "      <td>/home/zchayav/projects/stylegan2-ada-pytorch/s...</td>\n",
       "      <td>ABCA4</td>\n",
       "    </tr>\n",
       "    <tr>\n",
       "      <th>3</th>\n",
       "      <td>/home/zchayav/projects/stylegan2-ada-pytorch/s...</td>\n",
       "      <td>ABCA4</td>\n",
       "    </tr>\n",
       "    <tr>\n",
       "      <th>4</th>\n",
       "      <td>/home/zchayav/projects/stylegan2-ada-pytorch/s...</td>\n",
       "      <td>ABCA4</td>\n",
       "    </tr>\n",
       "  </tbody>\n",
       "</table>\n",
       "</div>"
      ],
      "text/plain": [
       "                                           file.path   gene\n",
       "0  /home/zchayav/projects/stylegan2-ada-pytorch/s...  ABCA4\n",
       "1  /home/zchayav/projects/stylegan2-ada-pytorch/s...  ABCA4\n",
       "2  /home/zchayav/projects/stylegan2-ada-pytorch/s...  ABCA4\n",
       "3  /home/zchayav/projects/stylegan2-ada-pytorch/s...  ABCA4\n",
       "4  /home/zchayav/projects/stylegan2-ada-pytorch/s...  ABCA4"
      ]
     },
     "execution_count": 99,
     "metadata": {},
     "output_type": "execute_result"
    }
   ],
   "source": [
    "synthetic_data_path = \"/home/zchayav/projects/stylegan2-ada-pytorch/synthetic_datasets/stylegan2_synthetic_-2perclass/generated_examples2.csv\"\n",
    "synthetic_df = pd.read_csv(synthetic_data_path)\n",
    "synthetic_df[\"file.path\"] = list(map(os.path.abspath, synthetic_df[\"file.path\"]))\n",
    "# synthetic_df = synthetic_df[synthetic_df['gene'] != 'ABCA4']\n",
    "# synthetic_df.gene = class_repeats\n",
    "synthetic_df.head()"
   ]
  },
  {
   "cell_type": "code",
   "execution_count": 100,
   "id": "6fb1ad37",
   "metadata": {},
   "outputs": [
    {
     "data": {
      "text/plain": [
       "(True,\n",
       " '/home/zchayav/projects/stylegan2-ada-pytorch/synthetic_datasets/stylegan2_synthetic_-2perclass/ABCA4/image1.png')"
      ]
     },
     "execution_count": 100,
     "metadata": {},
     "output_type": "execute_result"
    }
   ],
   "source": [
    "os.path.exists(synthetic_df.iloc[0][\"file.path\"]), synthetic_df.iloc[0][\"file.path\"]"
   ]
  },
  {
   "cell_type": "code",
   "execution_count": 101,
   "id": "45bd01d7",
   "metadata": {},
   "outputs": [
    {
     "name": "stdout",
     "output_type": "stream",
     "text": [
      "Length of dataset = 10587\n",
      "Keys =  Index(['file.path', 'gene'], dtype='object')\n"
     ]
    }
   ],
   "source": [
    "print(\"Length of dataset = \" + str(len(synthetic_df)))\n",
    "print(\"Keys = \", synthetic_df.keys())"
   ]
  },
  {
   "cell_type": "code",
   "execution_count": 103,
   "id": "45745763-0eec-4047-868a-e01197ebab5d",
   "metadata": {},
   "outputs": [],
   "source": [
    "synthetic_df.to_csv('classifier_training/datasets/S.csv', index=False)"
   ]
  },
  {
   "cell_type": "markdown",
   "id": "aef3de3c-69c9-4d2b-9ef7-f7ceb73241ac",
   "metadata": {},
   "source": [
    "## Combine the datasets"
   ]
  },
  {
   "cell_type": "code",
   "execution_count": 93,
   "id": "053b3806",
   "metadata": {},
   "outputs": [
    {
     "data": {
      "text/html": [
       "<div>\n",
       "<style scoped>\n",
       "    .dataframe tbody tr th:only-of-type {\n",
       "        vertical-align: middle;\n",
       "    }\n",
       "\n",
       "    .dataframe tbody tr th {\n",
       "        vertical-align: top;\n",
       "    }\n",
       "\n",
       "    .dataframe thead th {\n",
       "        text-align: right;\n",
       "    }\n",
       "</style>\n",
       "<table border=\"1\" class=\"dataframe\">\n",
       "  <thead>\n",
       "    <tr style=\"text-align: right;\">\n",
       "      <th></th>\n",
       "      <th>file.path</th>\n",
       "      <th>patient.number</th>\n",
       "      <th>laterality</th>\n",
       "      <th>date</th>\n",
       "      <th>file.name</th>\n",
       "      <th>scan.id</th>\n",
       "      <th>scan.number</th>\n",
       "      <th>gene</th>\n",
       "      <th>modality</th>\n",
       "      <th>file.size</th>\n",
       "      <th>...</th>\n",
       "      <th>image.height</th>\n",
       "      <th>pixel.median.intensity</th>\n",
       "      <th>pixel.mean.intensity</th>\n",
       "      <th>pixel.max.intensity</th>\n",
       "      <th>pixel.min.intensity</th>\n",
       "      <th>pixel.std.intensity</th>\n",
       "      <th>pixel.black.count</th>\n",
       "      <th>brisq.score</th>\n",
       "      <th>pixel.noise.level</th>\n",
       "      <th>fold</th>\n",
       "    </tr>\n",
       "  </thead>\n",
       "  <tbody>\n",
       "    <tr>\n",
       "      <th>0</th>\n",
       "      <td>/media/pontikos_nas2/NikolasPontikos/IRD/MEH/E...</td>\n",
       "      <td>EY00010</td>\n",
       "      <td>left</td>\n",
       "      <td>2014-07-22</td>\n",
       "      <td>00372075_fundus_0.png</td>\n",
       "      <td>372075.0</td>\n",
       "      <td>0.0</td>\n",
       "      <td>ABCA4</td>\n",
       "      <td>BAF</td>\n",
       "      <td>330808.0</td>\n",
       "      <td>...</td>\n",
       "      <td>768.0</td>\n",
       "      <td>0.160784</td>\n",
       "      <td>0.162086</td>\n",
       "      <td>0.984314</td>\n",
       "      <td>0.0</td>\n",
       "      <td>0.121664</td>\n",
       "      <td>107577.0</td>\n",
       "      <td>86.713359</td>\n",
       "      <td>1227.155663</td>\n",
       "      <td>1.0</td>\n",
       "    </tr>\n",
       "    <tr>\n",
       "      <th>1</th>\n",
       "      <td>/media/pontikos_nas2/NikolasPontikos/IRD/MEH/E...</td>\n",
       "      <td>EY00010</td>\n",
       "      <td>left</td>\n",
       "      <td>2014-07-22</td>\n",
       "      <td>00372075_fundus_1.png</td>\n",
       "      <td>372075.0</td>\n",
       "      <td>1.0</td>\n",
       "      <td>ABCA4</td>\n",
       "      <td>BAF</td>\n",
       "      <td>308394.0</td>\n",
       "      <td>...</td>\n",
       "      <td>768.0</td>\n",
       "      <td>0.172549</td>\n",
       "      <td>0.175132</td>\n",
       "      <td>0.984314</td>\n",
       "      <td>0.0</td>\n",
       "      <td>0.127474</td>\n",
       "      <td>107577.0</td>\n",
       "      <td>78.433650</td>\n",
       "      <td>960.416794</td>\n",
       "      <td>1.0</td>\n",
       "    </tr>\n",
       "    <tr>\n",
       "      <th>2</th>\n",
       "      <td>/media/pontikos_nas2/NikolasPontikos/IRD/MEH/E...</td>\n",
       "      <td>EY00010</td>\n",
       "      <td>left</td>\n",
       "      <td>2015-07-21</td>\n",
       "      <td>00500551_fundus_0.png</td>\n",
       "      <td>500551.0</td>\n",
       "      <td>0.0</td>\n",
       "      <td>ABCA4</td>\n",
       "      <td>BAF</td>\n",
       "      <td>400177.0</td>\n",
       "      <td>...</td>\n",
       "      <td>768.0</td>\n",
       "      <td>0.337255</td>\n",
       "      <td>0.324154</td>\n",
       "      <td>0.984314</td>\n",
       "      <td>0.0</td>\n",
       "      <td>0.224778</td>\n",
       "      <td>107577.0</td>\n",
       "      <td>100.509230</td>\n",
       "      <td>1887.814948</td>\n",
       "      <td>1.0</td>\n",
       "    </tr>\n",
       "    <tr>\n",
       "      <th>3</th>\n",
       "      <td>/media/pontikos_nas2/NikolasPontikos/IRD/MEH/E...</td>\n",
       "      <td>EY00010</td>\n",
       "      <td>right</td>\n",
       "      <td>2014-07-22</td>\n",
       "      <td>00372074_fundus_0.png</td>\n",
       "      <td>372074.0</td>\n",
       "      <td>0.0</td>\n",
       "      <td>ABCA4</td>\n",
       "      <td>BAF</td>\n",
       "      <td>327884.0</td>\n",
       "      <td>...</td>\n",
       "      <td>768.0</td>\n",
       "      <td>0.156863</td>\n",
       "      <td>0.156701</td>\n",
       "      <td>0.984314</td>\n",
       "      <td>0.0</td>\n",
       "      <td>0.117325</td>\n",
       "      <td>107577.0</td>\n",
       "      <td>84.681486</td>\n",
       "      <td>1076.269435</td>\n",
       "      <td>1.0</td>\n",
       "    </tr>\n",
       "    <tr>\n",
       "      <th>4</th>\n",
       "      <td>/media/pontikos_nas2/NikolasPontikos/IRD/MEH/E...</td>\n",
       "      <td>EY00010</td>\n",
       "      <td>right</td>\n",
       "      <td>2014-07-22</td>\n",
       "      <td>00372074_fundus_1.png</td>\n",
       "      <td>372074.0</td>\n",
       "      <td>1.0</td>\n",
       "      <td>ABCA4</td>\n",
       "      <td>BAF</td>\n",
       "      <td>325394.0</td>\n",
       "      <td>...</td>\n",
       "      <td>768.0</td>\n",
       "      <td>0.164706</td>\n",
       "      <td>0.162020</td>\n",
       "      <td>0.984314</td>\n",
       "      <td>0.0</td>\n",
       "      <td>0.120588</td>\n",
       "      <td>107577.0</td>\n",
       "      <td>81.952300</td>\n",
       "      <td>1044.006736</td>\n",
       "      <td>1.0</td>\n",
       "    </tr>\n",
       "  </tbody>\n",
       "</table>\n",
       "<p>5 rows × 22 columns</p>\n",
       "</div>"
      ],
      "text/plain": [
       "                                           file.path patient.number  \\\n",
       "0  /media/pontikos_nas2/NikolasPontikos/IRD/MEH/E...        EY00010   \n",
       "1  /media/pontikos_nas2/NikolasPontikos/IRD/MEH/E...        EY00010   \n",
       "2  /media/pontikos_nas2/NikolasPontikos/IRD/MEH/E...        EY00010   \n",
       "3  /media/pontikos_nas2/NikolasPontikos/IRD/MEH/E...        EY00010   \n",
       "4  /media/pontikos_nas2/NikolasPontikos/IRD/MEH/E...        EY00010   \n",
       "\n",
       "  laterality        date              file.name   scan.id  scan.number   gene  \\\n",
       "0       left  2014-07-22  00372075_fundus_0.png  372075.0          0.0  ABCA4   \n",
       "1       left  2014-07-22  00372075_fundus_1.png  372075.0          1.0  ABCA4   \n",
       "2       left  2015-07-21  00500551_fundus_0.png  500551.0          0.0  ABCA4   \n",
       "3      right  2014-07-22  00372074_fundus_0.png  372074.0          0.0  ABCA4   \n",
       "4      right  2014-07-22  00372074_fundus_1.png  372074.0          1.0  ABCA4   \n",
       "\n",
       "  modality  file.size  ... image.height  pixel.median.intensity  \\\n",
       "0      BAF   330808.0  ...        768.0                0.160784   \n",
       "1      BAF   308394.0  ...        768.0                0.172549   \n",
       "2      BAF   400177.0  ...        768.0                0.337255   \n",
       "3      BAF   327884.0  ...        768.0                0.156863   \n",
       "4      BAF   325394.0  ...        768.0                0.164706   \n",
       "\n",
       "   pixel.mean.intensity  pixel.max.intensity  pixel.min.intensity  \\\n",
       "0              0.162086             0.984314                  0.0   \n",
       "1              0.175132             0.984314                  0.0   \n",
       "2              0.324154             0.984314                  0.0   \n",
       "3              0.156701             0.984314                  0.0   \n",
       "4              0.162020             0.984314                  0.0   \n",
       "\n",
       "   pixel.std.intensity  pixel.black.count  brisq.score  pixel.noise.level  \\\n",
       "0             0.121664           107577.0    86.713359        1227.155663   \n",
       "1             0.127474           107577.0    78.433650         960.416794   \n",
       "2             0.224778           107577.0   100.509230        1887.814948   \n",
       "3             0.117325           107577.0    84.681486        1076.269435   \n",
       "4             0.120588           107577.0    81.952300        1044.006736   \n",
       "\n",
       "   fold  \n",
       "0   1.0  \n",
       "1   1.0  \n",
       "2   1.0  \n",
       "3   1.0  \n",
       "4   1.0  \n",
       "\n",
       "[5 rows x 22 columns]"
      ]
     },
     "execution_count": 93,
     "metadata": {},
     "output_type": "execute_result"
    }
   ],
   "source": [
    "combined_dataset = real_df.merge(synthetic_df, how=\"outer\")\n",
    "combined_dataset.head()"
   ]
  },
  {
   "cell_type": "code",
   "execution_count": 94,
   "id": "44160cf5",
   "metadata": {},
   "outputs": [
    {
     "data": {
      "text/plain": [
       "ABCA4      656\n",
       "USH2A      530\n",
       "RP1        487\n",
       "PRPH2      444\n",
       "RPGR       436\n",
       "BEST1      435\n",
       "CHM        408\n",
       "RS1        396\n",
       "RHO        368\n",
       "NR2E3      365\n",
       "PRPF31     351\n",
       "EYS        350\n",
       "MERTK      349\n",
       "MYO7A      347\n",
       "CNGA3      344\n",
       "CNGB3      338\n",
       "CRB1       336\n",
       "PROML1     334\n",
       "CDH23      332\n",
       "BBS1       331\n",
       "EFEMP1     330\n",
       "RPE65      328\n",
       "PDE6B      324\n",
       "RDH12      322\n",
       "PRPF8      322\n",
       "TIMP3      320\n",
       "CERKL      317\n",
       "CRX        316\n",
       "GUCY2D     316\n",
       "RP1L1      315\n",
       "RP2        315\n",
       "CACNA1F    315\n",
       "CYP4V2     310\n",
       "OPA1       308\n",
       "MTTL1      308\n",
       "KCNV2      307\n",
       "Name: gene, dtype: int64"
      ]
     },
     "execution_count": 94,
     "metadata": {},
     "output_type": "execute_result"
    }
   ],
   "source": [
    "combined_dataset.gene.value_counts()"
   ]
  },
  {
   "cell_type": "code",
   "execution_count": 95,
   "id": "7ad573d5",
   "metadata": {},
   "outputs": [],
   "source": [
    "dest_path = \"classifier_training/datasets/R10500S_r2.csv\"\n",
    "combined_dataset.to_csv(dest_path, index=False)"
   ]
  },
  {
   "cell_type": "code",
   "execution_count": 145,
   "id": "66bc6a3f-6321-410e-b8f3-b3acee3625f8",
   "metadata": {},
   "outputs": [
    {
     "name": "stdout",
     "output_type": "stream",
     "text": [
      "Fold 1 size: 3035\n"
     ]
    },
    {
     "data": {
      "text/plain": [
       "ABCA4      656\n",
       "CERKL      656\n",
       "RDH12      656\n",
       "RP1L1      656\n",
       "PRPF8      656\n",
       "OPA1       656\n",
       "RP2        656\n",
       "TIMP3      656\n",
       "CDH23      656\n",
       "CACNA1F    656\n",
       "EFEMP1     656\n",
       "KCNV2      656\n",
       "PROML1     656\n",
       "MERTK      656\n",
       "CRX        656\n",
       "NR2E3      656\n",
       "GUCY2D     656\n",
       "EYS        656\n",
       "CRB1       656\n",
       "MTTL1      656\n",
       "PDE6B      656\n",
       "RP1        656\n",
       "USH2A      656\n",
       "CHM        656\n",
       "BBS1       656\n",
       "RPE65      656\n",
       "PRPF31     656\n",
       "RPGR       656\n",
       "RHO        656\n",
       "RS1        656\n",
       "CNGA3      656\n",
       "CNGB3      656\n",
       "MYO7A      656\n",
       "PRPH2      656\n",
       "BEST1      656\n",
       "CYP4V2     656\n",
       "Name: gene, dtype: int64"
      ]
     },
     "execution_count": 145,
     "metadata": {},
     "output_type": "execute_result"
    }
   ],
   "source": [
    "# load real dataset\n",
    "real_data = pd.read_csv(real_data_path)\n",
    "# print(\"Found {} real images\".format(len(real_data)))\n",
    "real_data = real_data[real_data.fold == 1]\n",
    "print(\"Fold 1 size: {}\".format(len(real_data)))\n",
    "real_data = real_data[real_data.gene.isin(classes)]\n",
    "\n",
    "# load synthetic dataset\n",
    "synthetic_data_path = \"/home/zchayav/projects/syntheye/synthetic_datasets/all_folds/stylegan2_synthetic_-1perclass/generated_examples.csv\"\n",
    "synthetic_df = pd.read_csv(synthetic_data_path)\n",
    "synthetic_df[\"file.path\"] = list(map(os.path.abspath, 'synthetic_datasets/'+synthetic_df[\"file.path\"]))\n",
    "synthetic_df.head()\n",
    "\n",
    "# find unique sizes of each class\n",
    "class_size = real_data.gene.value_counts()\n",
    "largest_class = np.max(class_size)\n",
    "differences = {gene: largest_class-class_size[gene] for gene in classes}\n",
    "\n",
    "# file the synthetic dataset dynamically\n",
    "for i, gene in enumerate(classes):\n",
    "    synthetic_images = synthetic_df[synthetic_df.gene == gene]\n",
    "    n_samples = differences[gene]\n",
    "    genes = np.repeat([gene], n_samples, -1)\n",
    "    rows = synthetic_images.sample(n=n_samples)\n",
    "    real_data = pd.concat([real_data, rows], axis=0, ignore_index=True)\n",
    "real_data.gene.value_counts()\n",
    "# df.to_csv(dst+\"generated_examples.csv\", index=False)"
   ]
  },
  {
   "cell_type": "code",
   "execution_count": 146,
   "id": "64a69b48-4d6e-4b15-9866-80fff4a3d8a5",
   "metadata": {},
   "outputs": [],
   "source": [
    "real_data.to_csv('classifier_training/datasets/RB2.csv', index=False)"
   ]
  },
  {
   "cell_type": "code",
   "execution_count": 129,
   "id": "bc3472ef-491c-46ea-8b4f-6979253c6ff1",
   "metadata": {},
   "outputs": [],
   "source": [
    "val_path = '/home/zchayav/projects/syntheye/dataset/all_baf_valid_50deg_filtered_val_0.csv'\n",
    "val_df = pd.read_csv(val_path)\n",
    "val_df = val_df[val_df.gene.isin(classes)]\n",
    "def exists(fpath):\n",
    "    return os.path.exists(fpath)\n",
    "val_path_new = val_df[val_df['file.path'].apply(exists)]"
   ]
  },
  {
   "cell_type": "code",
   "execution_count": 132,
   "id": "887917cc-fe5e-4cbf-a8d8-98159d60144f",
   "metadata": {},
   "outputs": [],
   "source": [
    "train_path = '/home/zchayav/projects/syntheye/dataset/all_baf_valid_50deg_filtered_train_0.csv'\n",
    "train_df = pd.read_csv(train_path)\n",
    "train_df = train_df[train_df.gene.isin(classes)]\n",
    "\n",
    "train_path_new = train_df[train_df['file.path'].apply(exists)]"
   ]
  },
  {
   "cell_type": "code",
   "execution_count": 133,
   "id": "1736c57f-e88f-49c6-87e1-deb0189667f8",
   "metadata": {},
   "outputs": [
    {
     "data": {
      "text/plain": [
       "(10589, 10587)"
      ]
     },
     "execution_count": 133,
     "metadata": {},
     "output_type": "execute_result"
    }
   ],
   "source": [
    "len(train_df), len(train_path_new)"
   ]
  },
  {
   "cell_type": "code",
   "execution_count": 148,
   "id": "15aa5a46-2c0a-44fc-a59d-b15e8b9d7682",
   "metadata": {},
   "outputs": [],
   "source": [
    "def remove_missing(csvs):\n",
    "    def exists(fpath):\n",
    "        return os.path.exists(fpath)\n",
    "\n",
    "    for f in csvs:\n",
    "        df = pd.read_csv(f)\n",
    "        df_new = df[df['file.path'].apply(exists)]\n",
    "        print(f, len(df), len(df_new))\n",
    "        assert len(df) >= len(df_new)\n",
    "        df_new.to_csv(f, index=False)"
   ]
  },
  {
   "cell_type": "code",
   "execution_count": 150,
   "id": "1cbf425f-95f1-4e4c-a85a-52fc2631e6d1",
   "metadata": {},
   "outputs": [],
   "source": [
    "# csvs = [os.path.join('classifier_training/datasets', f) for f in os.listdir('classifier_training/datasets/')]\n",
    "# remove_missing(csvs)"
   ]
  },
  {
   "cell_type": "markdown",
   "id": "4cc83b4e",
   "metadata": {
    "jp-MarkdownHeadingCollapsed": true,
    "tags": []
   },
   "source": [
    "## Synthetic + Real Combined (For Clinical Graders)"
   ]
  },
  {
   "cell_type": "code",
   "execution_count": null,
   "id": "ba2d8cd5",
   "metadata": {},
   "outputs": [],
   "source": [
    "selected_genes = [\"ABCA4\", \"PRPH2\", \"BEST1\"]\n",
    "real_data_path = \"datasets/eye2gene/all_baf_valid_50deg_filtered3.csv\"\n",
    "synthetic_data_path = \"synthetic_datasets/stylegan2_synthetic_100perclass/generated_examples.csv\"\n",
    "real_df = pd.read_csv(real_data_path)\n",
    "real_df = real_df[real_df.gene.isin(selected_genes)]\n",
    "synthetic_df = pd.read_csv(synthetic_data_path)\n",
    "synthetic_df[\"file.path\"] = list(map(os.path.abspath, \"synthetic_datasets/\"+synthetic_df[\"file.path\"]))\n",
    "synthetic_df = synthetic_df[synthetic_df.gene.isin(selected_genes)]"
   ]
  },
  {
   "cell_type": "code",
   "execution_count": null,
   "id": "31270444",
   "metadata": {},
   "outputs": [],
   "source": [
    "np.random.seed(1399)\n",
    "n_samples_wanted_per_class = 100\n",
    "image_paths = pd.DataFrame(columns=[\"ID\", \"Image Path\"])\n",
    "graders_df = pd.DataFrame(columns=[\"ID\", \"gene\", \"Predict (Real/Unsure/Fake)\"])\n",
    "answers_df = pd.DataFrame(columns=[\"ID\", \"gene\", \"Actual (Real/Unsure/Fake)\"])\n",
    "threshold = 0.5\n",
    "for j, gene in enumerate(selected_genes):\n",
    "    for i in range(n_samples_wanted_per_class):\n",
    "        if np.random.rand() < threshold:\n",
    "            sample_row = synthetic_df[synthetic_df.gene == gene].sample()\n",
    "            paths_row = np.array([\"{:03}\".format(n_samples_wanted_per_class*j + i), sample_row[\"file.path\"].item()])[None, :]\n",
    "            grader_row = np.array([\"{:03}\".format(n_samples_wanted_per_class*j + i), sample_row[\"gene\"].item(), \"\"])[None, :]\n",
    "            answer_row = np.array([\"{:03}\".format(n_samples_wanted_per_class*j + i), sample_row[\"gene\"].item(), \"Fake\"])[None, :]\n",
    "            paths_row = pd.DataFrame(paths_row, columns=[\"ID\", \"Image Path\"])\n",
    "            grader_row = pd.DataFrame(grader_row, columns=[\"ID\", \"gene\", \"Predict (Real/Unsure/Fake)\"])\n",
    "            answer_row = pd.DataFrame(answer_row, columns=[\"ID\", \"gene\", \"Actual (Real/Unsure/Fake)\"])\n",
    "        else:\n",
    "            sample_row = real_df[real_df.gene == gene].sample()\n",
    "            paths_row = np.array([\"{:03}\".format(n_samples_wanted_per_class*j + i), sample_row[\"file.path\"].item()])[None, :]\n",
    "            grader_row = np.array([\"{:03}\".format(n_samples_wanted_per_class*j + i), sample_row[\"gene\"].item(), \"\"])[None, :]\n",
    "            answer_row = np.array([\"{:03}\".format(n_samples_wanted_per_class*j + i), sample_row[\"gene\"].item(), \"Real\"])[None, :]\n",
    "            paths_row = pd.DataFrame(paths_row, columns=[\"ID\", \"Image Path\"])\n",
    "            grader_row = pd.DataFrame(grader_row, columns=[\"ID\", \"gene\", \"Predict (Real/Unsure/Fake)\"])\n",
    "            answer_row = pd.DataFrame(answer_row, columns=[\"ID\", \"gene\", \"Actual (Real/Unsure/Fake)\"])\n",
    "        image_paths = image_paths.append(paths_row)\n",
    "        graders_df = graders_df.append(grader_row)\n",
    "        answers_df = answers_df.append(answer_row)\n",
    "image_paths = image_paths.reset_index(drop=True)\n",
    "graders_df = graders_df.reset_index(drop=True)\n",
    "answers_df = answers_df.reset_index(drop=True)"
   ]
  },
  {
   "cell_type": "code",
   "execution_count": null,
   "id": "e314031c",
   "metadata": {},
   "outputs": [],
   "source": [
    "image_paths"
   ]
  },
  {
   "cell_type": "code",
   "execution_count": null,
   "id": "ecef5755",
   "metadata": {},
   "outputs": [],
   "source": [
    "graders_df"
   ]
  },
  {
   "cell_type": "code",
   "execution_count": null,
   "id": "2ab3f89f",
   "metadata": {},
   "outputs": [],
   "source": [
    "answers_df"
   ]
  },
  {
   "cell_type": "code",
   "execution_count": null,
   "id": "8127a58b",
   "metadata": {},
   "outputs": [],
   "source": [
    "np.unique(graders_df.gene, return_counts=True)"
   ]
  },
  {
   "cell_type": "code",
   "execution_count": null,
   "id": "260e23b4",
   "metadata": {},
   "outputs": [],
   "source": [
    "image_paths.to_excel(\"graders_eval_images_stylegan2/image_paths.xlsx\", index=False)\n",
    "graders_df.to_excel(\"graders_eval_images_stylegan2/graders_eval.xlsx\", index=False)\n",
    "answers_df.to_excel(\"graders_eval_images_stylegan2/answers_eval.xlsx\", index=False)"
   ]
  },
  {
   "cell_type": "code",
   "execution_count": null,
   "id": "94e3a4e9",
   "metadata": {},
   "outputs": [],
   "source": [
    "from shutil import copyfile\n",
    "from PIL import Image\n",
    "os.makedirs(\"graders_eval_images_stylegan2/images\", exist_ok=True)\n",
    "for i, row in image_paths.iterrows():\n",
    "    filepath = row[\"Image Path\"]\n",
    "    img = Image.open(filepath)\n",
    "    if img.size != (512, 512):\n",
    "        img = img.resize((512, 512))\n",
    "        save_path = os.path.join(\"graders_eval_images_stylegan2/images/{:03}_{}.png\".format(i, graders_df.iloc[i].gene))\n",
    "        img.save(save_path)\n",
    "    else:\n",
    "        copyfile(filepath, \"graders_eval_images_stylegan2/images/{:03}_{}.png\".format(i, graders_df.iloc[i].gene))"
   ]
  },
  {
   "cell_type": "code",
   "execution_count": null,
   "id": "4c1826ba",
   "metadata": {},
   "outputs": [],
   "source": []
  }
 ],
 "metadata": {
  "kernelspec": {
   "display_name": "Python 3",
   "language": "python",
   "name": "python3"
  },
  "language_info": {
   "codemirror_mode": {
    "name": "ipython",
    "version": 3
   },
   "file_extension": ".py",
   "mimetype": "text/x-python",
   "name": "python",
   "nbconvert_exporter": "python",
   "pygments_lexer": "ipython3",
   "version": "3.8.8"
  }
 },
 "nbformat": 4,
 "nbformat_minor": 5
}
