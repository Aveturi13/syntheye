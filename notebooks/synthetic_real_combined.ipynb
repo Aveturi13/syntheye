{
 "cells": [
  {
   "cell_type": "code",
   "execution_count": null,
   "id": "dc43c0fa",
   "metadata": {},
   "outputs": [],
   "source": [
    "# import libraries\n",
    "import numpy as np\n",
    "import pandas as pd\n",
    "import os\n",
    "os.chdir(\"..\")"
   ]
  },
  {
   "cell_type": "markdown",
   "id": "066f703c",
   "metadata": {},
   "source": [
    "## Load real dataset"
   ]
  },
  {
   "cell_type": "code",
   "execution_count": null,
   "id": "073a3f4d",
   "metadata": {},
   "outputs": [],
   "source": [
    "real_data_path = \"datasets/eye2gene_new_filepaths/all_baf_valid_50deg_filtered_train_0_edited.csv\""
   ]
  },
  {
   "cell_type": "code",
   "execution_count": null,
   "id": "8f8aca8f",
   "metadata": {},
   "outputs": [],
   "source": [
    "real_df = pd.read_csv(real_data_path)\n",
    "with open(\"classes.txt\") as f:\n",
    "    classes = f.read().splitlines()\n",
    "real_df = real_df[real_df.gene.isin(classes)]"
   ]
  },
  {
   "cell_type": "code",
   "execution_count": null,
   "id": "2d2c1d63",
   "metadata": {},
   "outputs": [],
   "source": [
    "print(\"Length of dataset = \" + str(len(real_df)))\n",
    "print(\"Keys = \", real_df.keys())"
   ]
  },
  {
   "cell_type": "code",
   "execution_count": null,
   "id": "57a421f7",
   "metadata": {},
   "outputs": [],
   "source": [
    "real_df.head()"
   ]
  },
  {
   "cell_type": "markdown",
   "id": "60d8759a",
   "metadata": {},
   "source": [
    "## Load a Dummy Synthetic Dataset"
   ]
  },
  {
   "cell_type": "code",
   "execution_count": null,
   "id": "759c917b",
   "metadata": {},
   "outputs": [],
   "source": [
    "# from PIL import Image\n",
    "\n",
    "# # fixed images per class\n",
    "# n_images_per_class = 100\n",
    "# os.makedirs(\"synthetic_datasets/dummy_synthetic_{}\".format(n_images_per_class), exist_ok=True)\n",
    "\n",
    "# np.random.seed(1399)\n",
    "# df = pd.DataFrame(columns=[\"file.path\", \"gene\"])\n",
    "# for i, gene in enumerate(classes):\n",
    "#     for j in range(n_images_per_class):\n",
    "#         img = np.random.randint(low=0, high=255, size=(512, 512))\n",
    "#         img = Image.fromarray(np.uint8(img))\n",
    "        \n",
    "#         fname = \"synthetic_datasets/dummy_synthetic_{}/{}_image_{}.png\".format(n_images_per_class, gene, j)\n",
    "#         fname = os.path.abspath(fname)\n",
    "#         row = pd.DataFrame(data=[[fname, gene]], columns=[\"file.path\", \"gene\"])\n",
    "#         df = df.append(row)\n",
    "        \n",
    "#         # save images\n",
    "#         img.save(fname)\n",
    "# df.to_csv(\"synthetic_datasets/dummy_synthetic_{}/generated_examples.csv\".format(n_images_per_class), index=False)"
   ]
  },
  {
   "cell_type": "code",
   "execution_count": null,
   "id": "8559d927",
   "metadata": {},
   "outputs": [],
   "source": [
    "# from tqdm import tqdm\n",
    "# from concurrent.futures import ThreadPoolExecutor\n",
    "\n",
    "# classes2, class_sizes = np.unique(real_df.gene, return_counts=True)\n",
    "# sizes_dict = dict(zip(classes2, class_sizes))\n",
    "# largest_class = np.max(class_sizes)\n",
    "# differences = {c:largest_class - sizes_dict[c] for c in classes}\n",
    "# class_repeats = np.repeat(classes, list(differences.values()))\n",
    "\n",
    "# dset_path = os.path.abspath(\"synthetic_datasets/dummy_rebalanced/\")\n",
    "# os.makedirs(dset_path, exist_ok=True)\n",
    "# df = pd.DataFrame(columns=[\"file.path\", \"gene\"])\n",
    "\n",
    "# np.random.seed(1399)\n",
    "# for i, c in tqdm(enumerate(class_repeats)):\n",
    "#     img = np.random.randint(low=0, high=255, size=(512, 512))\n",
    "#     img = Image.fromarray(np.uint8(img))\n",
    "#     fname = os.path.join(dset_path, \"{}_img_{}.png\".format(c, i))\n",
    "#     row = pd.DataFrame(data=[[fname, c]], columns=[\"file.path\", \"gene\"])\n",
    "#     df = df.append(row)\n",
    "\n",
    "#     # save images\n",
    "#     img.save(fname)\n",
    "# df.to_csv(os.path.join(dset_path, \"generated_examples.csv\"), index=False)"
   ]
  },
  {
   "cell_type": "markdown",
   "id": "8eff8f90",
   "metadata": {},
   "source": [
    "## Load Synthetic Dataset"
   ]
  },
  {
   "cell_type": "code",
   "execution_count": null,
   "id": "cae75af2",
   "metadata": {},
   "outputs": [],
   "source": [
    "synthetic_data_path = \"synthetic_datasets/dummy_rebalanced/generated_examples.csv\"\n",
    "synthetic_df = pd.read_csv(synthetic_data_path)\n",
    "# synthetic_df[\"file.path\"] = list(map(os.path.abspath, \"synthetic_datasets/\"+synthetic_df[\"file.path\"]))\n",
    "# synthetic_df.gene = class_repeats\n",
    "synthetic_df.head()"
   ]
  },
  {
   "cell_type": "code",
   "execution_count": null,
   "id": "45bd01d7",
   "metadata": {},
   "outputs": [],
   "source": [
    "print(\"Length of dataset = \" + str(len(synthetic_df)))\n",
    "print(\"Keys = \", synthetic_df.keys())"
   ]
  },
  {
   "cell_type": "code",
   "execution_count": null,
   "id": "053b3806",
   "metadata": {},
   "outputs": [],
   "source": [
    "combined_dataset = real_df.merge(synthetic_df, how=\"outer\")"
   ]
  },
  {
   "cell_type": "code",
   "execution_count": null,
   "id": "42e0f36d",
   "metadata": {},
   "outputs": [],
   "source": [
    "combined_dataset"
   ]
  },
  {
   "cell_type": "code",
   "execution_count": null,
   "id": "44160cf5",
   "metadata": {},
   "outputs": [],
   "source": [
    "np.unique(combined_dataset.gene, return_counts=True)"
   ]
  },
  {
   "cell_type": "code",
   "execution_count": null,
   "id": "7ad573d5",
   "metadata": {},
   "outputs": [],
   "source": [
    "combined_dataset.to_csv(\"datasets/syntheye/real+dummy3600.csv\", index=False)"
   ]
  },
  {
   "cell_type": "markdown",
   "id": "4cc83b4e",
   "metadata": {},
   "source": [
    "## Synthetic + Real Combined (For Clinical Graders)"
   ]
  },
  {
   "cell_type": "code",
   "execution_count": null,
   "id": "ba2d8cd5",
   "metadata": {},
   "outputs": [],
   "source": [
    "selected_genes = [\"ABCA4\", \"PRPH2\", \"BEST1\"]\n",
    "real_data_path = \"datasets/eye2gene/all_baf_valid_50deg_filtered3.csv\"\n",
    "synthetic_data_path = \"synthetic_datasets/stylegan2_synthetic_100perclass/generated_examples.csv\"\n",
    "real_df = pd.read_csv(real_data_path)\n",
    "real_df = real_df[real_df.gene.isin(selected_genes)]\n",
    "synthetic_df = pd.read_csv(synthetic_data_path)\n",
    "synthetic_df[\"file.path\"] = list(map(os.path.abspath, \"synthetic_datasets/\"+synthetic_df[\"file.path\"]))\n",
    "synthetic_df = synthetic_df[synthetic_df.gene.isin(selected_genes)]"
   ]
  },
  {
   "cell_type": "code",
   "execution_count": null,
   "id": "31270444",
   "metadata": {},
   "outputs": [],
   "source": [
    "np.random.seed(1399)\n",
    "n_samples_wanted_per_class = 100\n",
    "image_paths = pd.DataFrame(columns=[\"ID\", \"Image Path\"])\n",
    "graders_df = pd.DataFrame(columns=[\"ID\", \"gene\", \"Predict (Real/Unsure/Fake)\"])\n",
    "answers_df = pd.DataFrame(columns=[\"ID\", \"gene\", \"Actual (Real/Unsure/Fake)\"])\n",
    "threshold = 0.5\n",
    "for j, gene in enumerate(selected_genes):\n",
    "    for i in range(n_samples_wanted_per_class):\n",
    "        if np.random.rand() < threshold:\n",
    "            sample_row = synthetic_df[synthetic_df.gene == gene].sample()\n",
    "            paths_row = np.array([\"{:03}\".format(n_samples_wanted_per_class*j + i), sample_row[\"file.path\"].item()])[None, :]\n",
    "            grader_row = np.array([\"{:03}\".format(n_samples_wanted_per_class*j + i), sample_row[\"gene\"].item(), \"\"])[None, :]\n",
    "            answer_row = np.array([\"{:03}\".format(n_samples_wanted_per_class*j + i), sample_row[\"gene\"].item(), \"Fake\"])[None, :]\n",
    "            paths_row = pd.DataFrame(paths_row, columns=[\"ID\", \"Image Path\"])\n",
    "            grader_row = pd.DataFrame(grader_row, columns=[\"ID\", \"gene\", \"Predict (Real/Unsure/Fake)\"])\n",
    "            answer_row = pd.DataFrame(answer_row, columns=[\"ID\", \"gene\", \"Actual (Real/Unsure/Fake)\"])\n",
    "        else:\n",
    "            sample_row = real_df[real_df.gene == gene].sample()\n",
    "            paths_row = np.array([\"{:03}\".format(n_samples_wanted_per_class*j + i), sample_row[\"file.path\"].item()])[None, :]\n",
    "            grader_row = np.array([\"{:03}\".format(n_samples_wanted_per_class*j + i), sample_row[\"gene\"].item(), \"\"])[None, :]\n",
    "            answer_row = np.array([\"{:03}\".format(n_samples_wanted_per_class*j + i), sample_row[\"gene\"].item(), \"Real\"])[None, :]\n",
    "            paths_row = pd.DataFrame(paths_row, columns=[\"ID\", \"Image Path\"])\n",
    "            grader_row = pd.DataFrame(grader_row, columns=[\"ID\", \"gene\", \"Predict (Real/Unsure/Fake)\"])\n",
    "            answer_row = pd.DataFrame(answer_row, columns=[\"ID\", \"gene\", \"Actual (Real/Unsure/Fake)\"])\n",
    "        image_paths = image_paths.append(paths_row)\n",
    "        graders_df = graders_df.append(grader_row)\n",
    "        answers_df = answers_df.append(answer_row)\n",
    "image_paths = image_paths.reset_index(drop=True)\n",
    "graders_df = graders_df.reset_index(drop=True)\n",
    "answers_df = answers_df.reset_index(drop=True)"
   ]
  },
  {
   "cell_type": "code",
   "execution_count": null,
   "id": "e314031c",
   "metadata": {},
   "outputs": [],
   "source": [
    "image_paths"
   ]
  },
  {
   "cell_type": "code",
   "execution_count": null,
   "id": "ecef5755",
   "metadata": {},
   "outputs": [],
   "source": [
    "graders_df"
   ]
  },
  {
   "cell_type": "code",
   "execution_count": null,
   "id": "2ab3f89f",
   "metadata": {},
   "outputs": [],
   "source": [
    "answers_df"
   ]
  },
  {
   "cell_type": "code",
   "execution_count": null,
   "id": "8127a58b",
   "metadata": {},
   "outputs": [],
   "source": [
    "np.unique(graders_df.gene, return_counts=True)"
   ]
  },
  {
   "cell_type": "code",
   "execution_count": null,
   "id": "260e23b4",
   "metadata": {},
   "outputs": [],
   "source": [
    "image_paths.to_excel(\"graders_eval_images_stylegan2/image_paths.xlsx\", index=False)\n",
    "graders_df.to_excel(\"graders_eval_images_stylegan2/graders_eval.xlsx\", index=False)\n",
    "answers_df.to_excel(\"graders_eval_images_stylegan2/answers_eval.xlsx\", index=False)"
   ]
  },
  {
   "cell_type": "code",
   "execution_count": null,
   "id": "94e3a4e9",
   "metadata": {},
   "outputs": [],
   "source": [
    "from shutil import copyfile\n",
    "from PIL import Image\n",
    "os.makedirs(\"graders_eval_images_stylegan2/images\", exist_ok=True)\n",
    "for i, row in image_paths.iterrows():\n",
    "    filepath = row[\"Image Path\"]\n",
    "    img = Image.open(filepath)\n",
    "    if img.size != (512, 512):\n",
    "        img = img.resize((512, 512))\n",
    "        save_path = os.path.join(\"graders_eval_images_stylegan2/images/{:03}_{}.png\".format(i, graders_df.iloc[i].gene))\n",
    "        img.save(save_path)\n",
    "    else:\n",
    "        copyfile(filepath, \"graders_eval_images_stylegan2/images/{:03}_{}.png\".format(i, graders_df.iloc[i].gene))"
   ]
  },
  {
   "cell_type": "code",
   "execution_count": null,
   "id": "4c1826ba",
   "metadata": {},
   "outputs": [],
   "source": []
  }
 ],
 "metadata": {
  "kernelspec": {
   "display_name": "Python 3",
   "language": "python",
   "name": "python3"
  },
  "language_info": {
   "codemirror_mode": {
    "name": "ipython",
    "version": 3
   },
   "file_extension": ".py",
   "mimetype": "text/x-python",
   "name": "python",
   "nbconvert_exporter": "python",
   "pygments_lexer": "ipython3",
   "version": "3.8.8"
  }
 },
 "nbformat": 4,
 "nbformat_minor": 5
}
